{
 "cells": [
  {
   "cell_type": "code",
   "execution_count": 1,
   "metadata": {},
   "outputs": [
    {
     "name": "stdout",
     "output_type": "stream",
     "text": [
      "Note: you may need to restart the kernel to use updated packages.\n"
     ]
    },
    {
     "name": "stderr",
     "output_type": "stream",
     "text": [
      "ERROR: Could not find a version that satisfies the requirement xml.etree.ElementTree (from versions: none)\n",
      "ERROR: No matching distribution found for xml.etree.ElementTree\n",
      "\n",
      "[notice] A new release of pip is available: 23.0.1 -> 23.3.1\n",
      "[notice] To update, run: C:\\Users\\wpark11\\AppData\\Local\\Microsoft\\WindowsApps\\PythonSoftwareFoundation.Python.3.10_qbz5n2kfra8p0\\python.exe -m pip install --upgrade pip\n"
     ]
    }
   ],
   "source": [
    "pip install xml.etree.ElementTree"
   ]
  },
  {
   "cell_type": "code",
   "execution_count": null,
   "metadata": {},
   "outputs": [],
   "source": [
    "pip install requests"
   ]
  },
  {
   "attachments": {},
   "cell_type": "markdown",
   "metadata": {},
   "source": [
    "## DICOM Standard Part 6"
   ]
  },
  {
   "cell_type": "code",
   "execution_count": 1,
   "metadata": {},
   "outputs": [
    {
     "name": "stderr",
     "output_type": "stream",
     "text": [
      "/Users/wooyeonpark/Library/Python/3.9/lib/python/site-packages/urllib3/__init__.py:34: NotOpenSSLWarning: urllib3 v2 only supports OpenSSL 1.1.1+, currently the 'ssl' module is compiled with 'LibreSSL 2.8.3'. See: https://github.com/urllib3/urllib3/issues/3020\n",
      "  warnings.warn(\n"
     ]
    }
   ],
   "source": [
    "import requests\n",
    "import xml.etree.ElementTree as ET\n",
    "\n",
    "# URI for DICOM Standard Part 6\n",
    "xml_uri = 'https://dicom.nema.org/medical/dicom/current/source/docbook/part06/part06.xml'\n",
    "\n",
    "# Parse the XML content\n",
    "response = requests.get(xml_uri)\n",
    "root = ET.fromstring(response.content)"
   ]
  },
  {
   "cell_type": "code",
   "execution_count": 2,
   "metadata": {},
   "outputs": [],
   "source": [
    "# Find the child node with label=\"6\"\n",
    "for child in root:\n",
    "    if child.attrib.get('label') == '6':\n",
    "        selected_node = child\n",
    "        break"
   ]
  },
  {
   "cell_type": "code",
   "execution_count": 3,
   "metadata": {},
   "outputs": [],
   "source": [
    "import pandas as pd\n",
    "from collections import defaultdict\n",
    "\n",
    "# Get table 1 from Chapter 6\n",
    "if selected_node is not None:\n",
    "    grandchild_table = selected_node.find('.//{http://docbook.org/ns/docbook}table')\n",
    "    if grandchild_table is not None:\n",
    "        thead = grandchild_table.find('.//{http://docbook.org/ns/docbook}thead')\n",
    "        tbody = grandchild_table.find('.//{http://docbook.org/ns/docbook}tbody')\n",
    "\n",
    "        # Store column names\n",
    "        column_names = []\n",
    "        if thead is not None:\n",
    "            for tr in thead.findall('.//{http://docbook.org/ns/docbook}tr'):\n",
    "                thead_names = tr.findall('.//{http://docbook.org/ns/docbook}emphasis')\n",
    "                if thead_names is not None:\n",
    "                    for name in thead_names:\n",
    "                        column_names.append(name.text.strip())\n",
    "\n",
    "            # Store row values\n",
    "            rows = tbody.findall('.//{http://docbook.org/ns/docbook}tr')\n",
    "            rows_data = []\n",
    "\n",
    "            # Loop through tbody to extract values\n",
    "            for tr in rows:\n",
    "                row_values = defaultdict(lambda: None)\n",
    "                idx = 0\n",
    "                for para in tr.findall('.//{http://docbook.org/ns/docbook}para'):\n",
    "                    emphasis = para.find('.//{http://docbook.org/ns/docbook}emphasis')\n",
    "                    if emphasis is not None and emphasis.text is not None:\n",
    "                        row_values[column_names[idx]] = emphasis.text.strip()\n",
    "                        idx += 1\n",
    "                        if idx >= len(column_names):\n",
    "                            break\n",
    "                    else:\n",
    "                        if para is not None and para.text is not None:\n",
    "                            row_values[column_names[idx]] = para.text.strip()\n",
    "                            idx += 1\n",
    "                            if idx >= len(column_names):\n",
    "                                break\n",
    "\n",
    "                # Append to the table only if it has more than 3 values\n",
    "                if sum(1 for value in row_values.values() if value is not None) > 3:\n",
    "                    rows_data.append(row_values)\n",
    "\n",
    "            # Save the output as a DataFrame\n",
    "            df = pd.DataFrame(rows_data, columns=column_names)\n",
    "else:\n",
    "    print(\"Node with label='6' not found.\")\n"
   ]
  },
  {
   "cell_type": "code",
   "execution_count": 4,
   "metadata": {},
   "outputs": [
    {
     "data": {
      "text/plain": [
       "['Tag', 'Name', 'Keyword', 'VR', 'VM']"
      ]
     },
     "execution_count": 4,
     "metadata": {},
     "output_type": "execute_result"
    }
   ],
   "source": [
    "column_names"
   ]
  },
  {
   "cell_type": "code",
   "execution_count": 5,
   "metadata": {},
   "outputs": [
    {
     "data": {
      "text/plain": [
       "0       (0008,0001)\n",
       "1       (0008,0005)\n",
       "2       (0008,0006)\n",
       "3       (0008,0008)\n",
       "4       (0008,0010)\n",
       "           ...     \n",
       "5071    (FFFA,FFFA)\n",
       "5072    (FFFC,FFFC)\n",
       "5073    (FFFE,E000)\n",
       "5074    (FFFE,E00D)\n",
       "5075    (FFFE,E0DD)\n",
       "Name: Tag, Length: 5076, dtype: object"
      ]
     },
     "execution_count": 5,
     "metadata": {},
     "output_type": "execute_result"
    }
   ],
   "source": [
    "df.Tag"
   ]
  },
  {
   "cell_type": "code",
   "execution_count": 5,
   "metadata": {},
   "outputs": [
    {
     "data": {
      "text/plain": [
       "VR\n",
       "CS    799\n",
       "DS    483\n",
       "US    379\n",
       "FD    309\n",
       "FL    292\n",
       "IS    239\n",
       "UL     79\n",
       "DT     62\n",
       "DA     61\n",
       "TM     55\n",
       "AT     24\n",
       "SS     18\n",
       "SL     15\n",
       "UV      6\n",
       "SV      1\n",
       "Name: count, dtype: int64"
      ]
     },
     "execution_count": 5,
     "metadata": {},
     "output_type": "execute_result"
    }
   ],
   "source": [
    "included_VR = ['AT', 'CS', 'DA', 'DT', 'DS', 'FL', 'FD', 'IS', 'SL', 'SS', 'SV', 'TM', 'UL', 'US', 'UV']\n",
    "df[df['VR'].isin(included_VR)].VR.value_counts() #CS is values; others are numbers "
   ]
  },
  {
   "cell_type": "code",
   "execution_count": 6,
   "metadata": {},
   "outputs": [
    {
     "data": {
      "text/html": [
       "<div>\n",
       "<style scoped>\n",
       "    .dataframe tbody tr th:only-of-type {\n",
       "        vertical-align: middle;\n",
       "    }\n",
       "\n",
       "    .dataframe tbody tr th {\n",
       "        vertical-align: top;\n",
       "    }\n",
       "\n",
       "    .dataframe thead th {\n",
       "        text-align: right;\n",
       "    }\n",
       "</style>\n",
       "<table border=\"1\" class=\"dataframe\">\n",
       "  <thead>\n",
       "    <tr style=\"text-align: right;\">\n",
       "      <th></th>\n",
       "      <th>Tag</th>\n",
       "      <th>Name</th>\n",
       "      <th>Keyword</th>\n",
       "      <th>VR</th>\n",
       "      <th>VM</th>\n",
       "    </tr>\n",
       "  </thead>\n",
       "  <tbody>\n",
       "    <tr>\n",
       "      <th>0</th>\n",
       "      <td>(0008,0001)</td>\n",
       "      <td>Length to End</td>\n",
       "      <td>Length​To​End</td>\n",
       "      <td>UL</td>\n",
       "      <td>1</td>\n",
       "    </tr>\n",
       "    <tr>\n",
       "      <th>1</th>\n",
       "      <td>(0008,0005)</td>\n",
       "      <td>Specific Character Set</td>\n",
       "      <td>Specific​Character​Set</td>\n",
       "      <td>CS</td>\n",
       "      <td>1-n</td>\n",
       "    </tr>\n",
       "    <tr>\n",
       "      <th>2</th>\n",
       "      <td>(0008,0006)</td>\n",
       "      <td>Language Code Sequence</td>\n",
       "      <td>Language​Code​Sequence</td>\n",
       "      <td>SQ</td>\n",
       "      <td>1</td>\n",
       "    </tr>\n",
       "    <tr>\n",
       "      <th>3</th>\n",
       "      <td>(0008,0008)</td>\n",
       "      <td>Image Type</td>\n",
       "      <td>Image​Type</td>\n",
       "      <td>CS</td>\n",
       "      <td>2-n</td>\n",
       "    </tr>\n",
       "    <tr>\n",
       "      <th>4</th>\n",
       "      <td>(0008,0010)</td>\n",
       "      <td>Recognition Code</td>\n",
       "      <td>Recognition​Code</td>\n",
       "      <td>SH</td>\n",
       "      <td>1</td>\n",
       "    </tr>\n",
       "  </tbody>\n",
       "</table>\n",
       "</div>"
      ],
      "text/plain": [
       "           Tag                    Name                 Keyword  VR   VM\n",
       "0  (0008,0001)           Length to End           Length​To​End  UL    1\n",
       "1  (0008,0005)  Specific Character Set  Specific​Character​Set  CS  1-n\n",
       "2  (0008,0006)  Language Code Sequence  Language​Code​Sequence  SQ    1\n",
       "3  (0008,0008)              Image Type              Image​Type  CS  2-n\n",
       "4  (0008,0010)        Recognition Code        Recognition​Code  SH    1"
      ]
     },
     "execution_count": 6,
     "metadata": {},
     "output_type": "execute_result"
    }
   ],
   "source": [
    "df.head()"
   ]
  },
  {
   "cell_type": "code",
   "execution_count": 5,
   "metadata": {},
   "outputs": [],
   "source": [
    "df.to_csv('./part6_attributes.csv', index=False)"
   ]
  },
  {
   "attachments": {},
   "cell_type": "markdown",
   "metadata": {},
   "source": [
    "## DICOM Standard Part 16"
   ]
  },
  {
   "cell_type": "code",
   "execution_count": 6,
   "metadata": {},
   "outputs": [],
   "source": [
    "import requests\n",
    "import xml.etree.ElementTree as ET\n",
    "\n",
    "# URI for DICOM Standard Part 6\n",
    "xml_uri = 'https://dicom.nema.org/medical/dicom/current/source/docbook/part16/part16.xml'\n",
    "\n",
    "# Parse the XML content\n",
    "response = requests.get(xml_uri)\n",
    "root = ET.fromstring(response.content)"
   ]
  },
  {
   "cell_type": "code",
   "execution_count": 7,
   "metadata": {},
   "outputs": [
    {
     "name": "stdout",
     "output_type": "stream",
     "text": [
      "{'label': 'B', 'status': '1', '{http://www.w3.org/XML/1998/namespace}id': 'chapter_B'}\n"
     ]
    }
   ],
   "source": [
    "# Find the child node with label=\"6\"\n",
    "for child in root:\n",
    "    if child.attrib.get('label') == 'B':\n",
    "        selected_node = child         \n",
    "        break\n",
    "print(selected_node.attrib)"
   ]
  },
  {
   "cell_type": "code",
   "execution_count": 6,
   "metadata": {},
   "outputs": [
    {
     "data": {
      "text/plain": [
       "1347"
      ]
     },
     "execution_count": 6,
     "metadata": {},
     "output_type": "execute_result"
    }
   ],
   "source": [
    "len(selected_node.findall('.//{http://docbook.org/ns/docbook}table'))"
   ]
  },
  {
   "cell_type": "code",
   "execution_count": 8,
   "metadata": {},
   "outputs": [],
   "source": [
    "import pandas as pd\n",
    "\n",
    "# Get all tables from Chapter B\n",
    "if selected_node is not None:\n",
    "    table_elements = selected_node.findall('.//{http://docbook.org/ns/docbook}table')\n",
    "\n",
    "    # Dictionary to store DataFrames\n",
    "    tables_dict = {}\n",
    "\n",
    "    # Iterate through each table\n",
    "    for index, table_element in enumerate(table_elements):\n",
    "        thead = table_element.find('.//{http://docbook.org/ns/docbook}thead')\n",
    "        tbody = table_element.find('.//{http://docbook.org/ns/docbook}tbody')\n",
    "\n",
    "        # Store column names\n",
    "        column_names = []\n",
    "        if thead is not None:\n",
    "            # Store the column names for the first row\n",
    "            for tr in thead.findall('.//{http://docbook.org/ns/docbook}tr'):\n",
    "                for idx in range(len(tr)):\n",
    "                    if tr[idx][0].text is not None:\n",
    "                        column_names.append(tr[idx][0].text.strip())\n",
    "        # print(f\"Column names for Table {index + 1}: {column_names}\")\n",
    "\n",
    "\n",
    "        # Store row values\n",
    "        rows_data = []\n",
    "        if tbody is not None:\n",
    "            # Iterate through each row in tbody\n",
    "            for tr in tbody.findall('.//{http://docbook.org/ns/docbook}tr'):\n",
    "                row_values = {}\n",
    "                for idx, td in enumerate(tr.findall('.//{http://docbook.org/ns/docbook}td')):\n",
    "                    if idx < len(column_names):\n",
    "                        # Extract values from nested elements, such as links\n",
    "                        value = ' '.join(text.strip() for text in td.itertext())\n",
    "                        if value:\n",
    "                            row_values[column_names[idx]] = value.strip()\n",
    "\n",
    "                rows_data.append(row_values)\n",
    "\n",
    "        # Save the output as a DataFrame and add to the dictionary\n",
    "        df = pd.DataFrame(rows_data, columns=column_names)\n",
    "        tables_dict[f'df_{index + 1}'] = df\n",
    "\n",
    "else:\n",
    "    print(\"Node with label='B' not found.\")\n"
   ]
  },
  {
   "attachments": {},
   "cell_type": "markdown",
   "metadata": {},
   "source": [
    "## As functions"
   ]
  },
  {
   "cell_type": "code",
   "execution_count": 9,
   "metadata": {},
   "outputs": [],
   "source": [
    "import requests\n",
    "import xml.etree.ElementTree as ET\n",
    "import pandas as pd\n",
    "from collections import defaultdict\n",
    "\n",
    "def extract_DICOM_Part_6_table_data(xml_url, label):\n",
    "    # Parse the XML content\n",
    "    response = requests.get(xml_url)\n",
    "    root = ET.fromstring(response.content)\n",
    "\n",
    "    # Find the child node with the specified label\n",
    "    selected_node = None\n",
    "    for child in root:\n",
    "        if child.attrib.get('label') == label:\n",
    "            selected_node = child\n",
    "            break\n",
    "\n",
    "    # Get the first table from the selected node\n",
    "    if selected_node is not None:\n",
    "        grandchild_table = selected_node.find('.//{http://docbook.org/ns/docbook}table')\n",
    "        if grandchild_table is not None:\n",
    "            thead = grandchild_table.find('.//{http://docbook.org/ns/docbook}thead')\n",
    "            tbody = grandchild_table.find('.//{http://docbook.org/ns/docbook}tbody')\n",
    "\n",
    "            # Store column names\n",
    "            column_names = []\n",
    "            if thead is not None:\n",
    "                for tr in thead.findall('.//{http://docbook.org/ns/docbook}tr'):\n",
    "                    thead_names = tr.findall('.//{http://docbook.org/ns/docbook}emphasis')\n",
    "                    if thead_names is not None:\n",
    "                        for name in thead_names:\n",
    "                            column_names.append(name.text.strip())\n",
    "\n",
    "            # Store row values\n",
    "            rows_data = []\n",
    "            if tbody is not None:\n",
    "                # Loop through tbody to extract values\n",
    "                for tr in tbody.findall('.//{http://docbook.org/ns/docbook}tr'):\n",
    "                    row_values = defaultdict(lambda: None)\n",
    "                    idx = 0\n",
    "                    for para in tr.findall('.//{http://docbook.org/ns/docbook}para'):\n",
    "                        emphasis = para.find('.//{http://docbook.org/ns/docbook}emphasis')\n",
    "                        if emphasis is not None and emphasis.text is not None:\n",
    "                            row_values[column_names[idx]] = emphasis.text.strip()\n",
    "                            idx += 1\n",
    "                            if idx >= len(column_names):\n",
    "                                break\n",
    "                        else:\n",
    "                            if para is not None and para.text is not None:\n",
    "                                row_values[column_names[idx]] = para.text.strip()\n",
    "                                idx += 1\n",
    "                                if idx >= len(column_names):\n",
    "                                    break\n",
    "\n",
    "                    # Append to the table only if it has more than 3 values\n",
    "                    if sum(1 for value in row_values.values() if value is not None) > 3:\n",
    "                        rows_data.append(row_values)\n",
    "\n",
    "                # Save the output as a DataFrame\n",
    "                df = pd.DataFrame(rows_data, columns=column_names)\n",
    "\n",
    "        else:\n",
    "            print(f\"No table found in node with label='{label}'.\")\n",
    "\n",
    "    else:\n",
    "        print(f\"Node with label='{label}' not found.\")\n"
   ]
  },
  {
   "cell_type": "code",
   "execution_count": 27,
   "metadata": {},
   "outputs": [],
   "source": [
    "# URI for DICOM Standard Part 6\n",
    "xml_uri = 'https://dicom.nema.org/medical/dicom/current/source/docbook/part06/part06.xml'\n",
    "\n",
    "# Extract tables with label '6'\n",
    "extract_DICOM_Part_6_table_data(xml_uri, '6')"
   ]
  },
  {
   "cell_type": "code",
   "execution_count": 38,
   "metadata": {},
   "outputs": [
    {
     "data": {
      "text/html": [
       "<div>\n",
       "<style scoped>\n",
       "    .dataframe tbody tr th:only-of-type {\n",
       "        vertical-align: middle;\n",
       "    }\n",
       "\n",
       "    .dataframe tbody tr th {\n",
       "        vertical-align: top;\n",
       "    }\n",
       "\n",
       "    .dataframe thead th {\n",
       "        text-align: right;\n",
       "    }\n",
       "</style>\n",
       "<table border=\"1\" class=\"dataframe\">\n",
       "  <thead>\n",
       "    <tr style=\"text-align: right;\">\n",
       "      <th></th>\n",
       "      <th>Tag</th>\n",
       "      <th>Name</th>\n",
       "      <th>Keyword</th>\n",
       "      <th>VR</th>\n",
       "      <th>VM</th>\n",
       "    </tr>\n",
       "  </thead>\n",
       "  <tbody>\n",
       "    <tr>\n",
       "      <th>0</th>\n",
       "      <td>(0008,0001)</td>\n",
       "      <td>Length to End</td>\n",
       "      <td>Length​To​End</td>\n",
       "      <td>UL</td>\n",
       "      <td>1</td>\n",
       "    </tr>\n",
       "    <tr>\n",
       "      <th>1</th>\n",
       "      <td>(0008,0005)</td>\n",
       "      <td>Specific Character Set</td>\n",
       "      <td>Specific​Character​Set</td>\n",
       "      <td>CS</td>\n",
       "      <td>1-n</td>\n",
       "    </tr>\n",
       "    <tr>\n",
       "      <th>2</th>\n",
       "      <td>(0008,0006)</td>\n",
       "      <td>Language Code Sequence</td>\n",
       "      <td>Language​Code​Sequence</td>\n",
       "      <td>SQ</td>\n",
       "      <td>1</td>\n",
       "    </tr>\n",
       "    <tr>\n",
       "      <th>3</th>\n",
       "      <td>(0008,0008)</td>\n",
       "      <td>Image Type</td>\n",
       "      <td>Image​Type</td>\n",
       "      <td>CS</td>\n",
       "      <td>2-n</td>\n",
       "    </tr>\n",
       "    <tr>\n",
       "      <th>4</th>\n",
       "      <td>(0008,0010)</td>\n",
       "      <td>Recognition Code</td>\n",
       "      <td>Recognition​Code</td>\n",
       "      <td>SH</td>\n",
       "      <td>1</td>\n",
       "    </tr>\n",
       "  </tbody>\n",
       "</table>\n",
       "</div>"
      ],
      "text/plain": [
       "           Tag                    Name                 Keyword  VR   VM\n",
       "0  (0008,0001)           Length to End           Length​To​End  UL    1\n",
       "1  (0008,0005)  Specific Character Set  Specific​Character​Set  CS  1-n\n",
       "2  (0008,0006)  Language Code Sequence  Language​Code​Sequence  SQ    1\n",
       "3  (0008,0008)              Image Type              Image​Type  CS  2-n\n",
       "4  (0008,0010)        Recognition Code        Recognition​Code  SH    1"
      ]
     },
     "execution_count": 38,
     "metadata": {},
     "output_type": "execute_result"
    }
   ],
   "source": [
    "df.head(5)"
   ]
  },
  {
   "cell_type": "code",
   "execution_count": 13,
   "metadata": {},
   "outputs": [],
   "source": [
    "import requests\n",
    "import xml.etree.ElementTree as ET\n",
    "import pandas as pd\n",
    "\n",
    "def extract_DICOM_Part_16_table_data(xml_url, label):\n",
    "    # Parse the XML content\n",
    "    response = requests.get(xml_url)\n",
    "    root = ET.fromstring(response.content)\n",
    "\n",
    "    # Find the child node with the specified label\n",
    "    selected_node = None\n",
    "    for child in root:\n",
    "        if child.attrib.get('label') == label:\n",
    "            selected_node = child\n",
    "            break\n",
    "\n",
    "    # Get all tables from the selected node\n",
    "    if selected_node is not None:\n",
    "        table_elements = selected_node.findall('.//{http://docbook.org/ns/docbook}table')\n",
    "\n",
    "        # Dictionary to store DataFrames\n",
    "        tables_dict = {}\n",
    "\n",
    "        # Iterate through each table\n",
    "        for index, table_element in enumerate(table_elements):\n",
    "            thead = table_element.find('.//{http://docbook.org/ns/docbook}thead')\n",
    "            tbody = table_element.find('.//{http://docbook.org/ns/docbook}tbody')\n",
    "\n",
    "            # Store column names\n",
    "            column_names = []\n",
    "            if thead is not None:\n",
    "                # Store the column names for the first row\n",
    "                for tr in thead.findall('.//{http://docbook.org/ns/docbook}tr'):\n",
    "                    for idx in range(len(tr)):\n",
    "                        if tr[idx][0].text is not None:\n",
    "                            column_names.append(tr[idx][0].text.strip())\n",
    "\n",
    "            # Store row values\n",
    "            rows_data = []\n",
    "            if tbody is not None:\n",
    "                # Iterate through each row in tbody\n",
    "                for tr in tbody.findall('.//{http://docbook.org/ns/docbook}tr'):\n",
    "                    row_values = {}\n",
    "                    for idx, td in enumerate(tr.findall('.//{http://docbook.org/ns/docbook}td')):\n",
    "                        if idx < len(column_names):\n",
    "                            # Extract values from nested elements, such as links\n",
    "                            value = ' '.join(text.strip() for text in td.itertext())\n",
    "                            if value:\n",
    "                                row_values[column_names[idx]] = value.strip()\n",
    "\n",
    "                    rows_data.append(row_values)\n",
    "\n",
    "            # Save the output as a DataFrame and add to the dictionary\n",
    "            df = pd.DataFrame(rows_data, columns=column_names)\n",
    "            tables_dict[f'df_{index + 1}'] = df\n",
    "\n",
    "        return tables_dict\n",
    "\n",
    "    else:\n",
    "        print(f\"Node with label='{label}' not found.\")\n",
    "        return None"
   ]
  },
  {
   "cell_type": "code",
   "execution_count": 14,
   "metadata": {},
   "outputs": [],
   "source": [
    "# URI for DICOM Standard Part 16\n",
    "xml_uri = 'https://dicom.nema.org/medical/dicom/current/source/docbook/part16/part16.xml'\n",
    "\n",
    "# Extract tables with label 'B'\n",
    "result_dict = extract_DICOM_Part_16_table_data(xml_uri, 'B')"
   ]
  },
  {
   "cell_type": "code",
   "execution_count": 15,
   "metadata": {},
   "outputs": [
    {
     "data": {
      "text/html": [
       "<div>\n",
       "<style scoped>\n",
       "    .dataframe tbody tr th:only-of-type {\n",
       "        vertical-align: middle;\n",
       "    }\n",
       "\n",
       "    .dataframe tbody tr th {\n",
       "        vertical-align: top;\n",
       "    }\n",
       "\n",
       "    .dataframe thead th {\n",
       "        text-align: right;\n",
       "    }\n",
       "</style>\n",
       "<table border=\"1\" class=\"dataframe\">\n",
       "  <thead>\n",
       "    <tr style=\"text-align: right;\">\n",
       "      <th></th>\n",
       "      <th></th>\n",
       "      <th></th>\n",
       "      <th></th>\n",
       "      <th></th>\n",
       "      <th></th>\n",
       "    </tr>\n",
       "  </thead>\n",
       "  <tbody>\n",
       "    <tr>\n",
       "      <th>0</th>\n",
       "      <td>C0278604</td>\n",
       "      <td>C0278604</td>\n",
       "      <td>C0278604</td>\n",
       "      <td>C0278604</td>\n",
       "      <td>C0278604</td>\n",
       "    </tr>\n",
       "    <tr>\n",
       "      <th>1</th>\n",
       "      <td>C1306754</td>\n",
       "      <td>C1306754</td>\n",
       "      <td>C1306754</td>\n",
       "      <td>C1306754</td>\n",
       "      <td>C1306754</td>\n",
       "    </tr>\n",
       "    <tr>\n",
       "      <th>2</th>\n",
       "      <td>C0031831</td>\n",
       "      <td>C0031831</td>\n",
       "      <td>C0031831</td>\n",
       "      <td>C0031831</td>\n",
       "      <td>C0031831</td>\n",
       "    </tr>\n",
       "    <tr>\n",
       "      <th>3</th>\n",
       "      <td>C2985479</td>\n",
       "      <td>C2985479</td>\n",
       "      <td>C2985479</td>\n",
       "      <td>C2985479</td>\n",
       "      <td>C2985479</td>\n",
       "    </tr>\n",
       "    <tr>\n",
       "      <th>4</th>\n",
       "      <td>C1320928</td>\n",
       "      <td>C1320928</td>\n",
       "      <td>C1320928</td>\n",
       "      <td>C1320928</td>\n",
       "      <td>C1320928</td>\n",
       "    </tr>\n",
       "    <tr>\n",
       "      <th>5</th>\n",
       "      <td>C1441532</td>\n",
       "      <td>C1441532</td>\n",
       "      <td>C1441532</td>\n",
       "      <td>C1441532</td>\n",
       "      <td>C1441532</td>\n",
       "    </tr>\n",
       "    <tr>\n",
       "      <th>6</th>\n",
       "      <td>C2985483</td>\n",
       "      <td>C2985483</td>\n",
       "      <td>C2985483</td>\n",
       "      <td>C2985483</td>\n",
       "      <td>C2985483</td>\n",
       "    </tr>\n",
       "    <tr>\n",
       "      <th>7</th>\n",
       "      <td>Physics Assistant</td>\n",
       "      <td>Physics Assistant</td>\n",
       "      <td>Physics Assistant</td>\n",
       "      <td>Physics Assistant</td>\n",
       "      <td>Physics Assistant</td>\n",
       "    </tr>\n",
       "    <tr>\n",
       "      <th>8</th>\n",
       "      <td>C1708969</td>\n",
       "      <td>C1708969</td>\n",
       "      <td>C1708969</td>\n",
       "      <td>C1708969</td>\n",
       "      <td>C1708969</td>\n",
       "    </tr>\n",
       "  </tbody>\n",
       "</table>\n",
       "</div>"
      ],
      "text/plain": [
       "                                                                               \\\n",
       "0           C0278604           C0278604           C0278604           C0278604   \n",
       "1           C1306754           C1306754           C1306754           C1306754   \n",
       "2           C0031831           C0031831           C0031831           C0031831   \n",
       "3           C2985479           C2985479           C2985479           C2985479   \n",
       "4           C1320928           C1320928           C1320928           C1320928   \n",
       "5           C1441532           C1441532           C1441532           C1441532   \n",
       "6           C2985483           C2985483           C2985483           C2985483   \n",
       "7  Physics Assistant  Physics Assistant  Physics Assistant  Physics Assistant   \n",
       "8           C1708969           C1708969           C1708969           C1708969   \n",
       "\n",
       "                      \n",
       "0           C0278604  \n",
       "1           C1306754  \n",
       "2           C0031831  \n",
       "3           C2985479  \n",
       "4           C1320928  \n",
       "5           C1441532  \n",
       "6           C2985483  \n",
       "7  Physics Assistant  \n",
       "8           C1708969  "
      ]
     },
     "execution_count": 15,
     "metadata": {},
     "output_type": "execute_result"
    }
   ],
   "source": [
    "result_dict['df_1101']"
   ]
  },
  {
   "cell_type": "code",
   "execution_count": 22,
   "metadata": {},
   "outputs": [
    {
     "name": "stdout",
     "output_type": "stream",
     "text": [
      "1347 Tables Identified\n",
      "['df_1', 'df_2', 'df_3', 'df_4', 'df_5', 'df_6', 'df_7', 'df_8', 'df_9', 'df_10', 'df_11', 'df_12', 'df_13', 'df_14', 'df_15', 'df_16', 'df_17', 'df_18', 'df_19', 'df_20', 'df_21', 'df_22', 'df_23', 'df_24', 'df_25', 'df_26', 'df_27', 'df_28', 'df_29', 'df_30', 'df_31', 'df_32', 'df_33', 'df_34', 'df_35', 'df_36', 'df_37', 'df_38', 'df_39', 'df_40', 'df_41', 'df_42', 'df_43', 'df_44', 'df_45', 'df_46', 'df_47', 'df_48', 'df_49', 'df_50', 'df_51', 'df_52', 'df_53', 'df_54', 'df_55', 'df_56', 'df_57', 'df_58', 'df_59', 'df_60', 'df_61', 'df_62', 'df_63', 'df_64', 'df_65', 'df_66', 'df_67', 'df_68', 'df_69', 'df_70', 'df_71', 'df_72', 'df_73', 'df_74', 'df_75', 'df_76', 'df_77', 'df_78', 'df_79', 'df_80', 'df_81', 'df_82', 'df_83', 'df_84', 'df_85', 'df_86', 'df_87', 'df_88', 'df_89', 'df_90', 'df_91', 'df_92', 'df_93', 'df_94', 'df_95', 'df_96', 'df_97', 'df_98', 'df_99', 'df_100', 'df_101', 'df_102', 'df_103', 'df_104', 'df_105', 'df_106', 'df_107', 'df_108', 'df_109', 'df_110', 'df_111', 'df_112', 'df_113', 'df_114', 'df_115', 'df_116', 'df_117', 'df_118', 'df_119', 'df_120', 'df_121', 'df_122', 'df_123', 'df_124', 'df_125', 'df_126', 'df_127', 'df_128', 'df_129', 'df_130', 'df_131', 'df_132', 'df_133', 'df_134', 'df_135', 'df_136', 'df_137', 'df_138', 'df_139', 'df_140', 'df_141', 'df_142', 'df_143', 'df_144', 'df_145', 'df_146', 'df_147', 'df_148', 'df_149', 'df_150', 'df_151', 'df_152', 'df_153', 'df_154', 'df_155', 'df_156', 'df_157', 'df_158', 'df_159', 'df_160', 'df_161', 'df_162', 'df_163', 'df_164', 'df_165', 'df_166', 'df_167', 'df_168', 'df_169', 'df_170', 'df_171', 'df_172', 'df_173', 'df_174', 'df_175', 'df_176', 'df_177', 'df_178', 'df_179', 'df_180', 'df_181', 'df_182', 'df_183', 'df_184', 'df_185', 'df_186', 'df_187', 'df_188', 'df_189', 'df_190', 'df_191', 'df_192', 'df_193', 'df_194', 'df_195', 'df_196', 'df_197', 'df_198', 'df_199', 'df_200', 'df_201', 'df_202', 'df_203', 'df_204', 'df_205', 'df_206', 'df_207', 'df_208', 'df_209', 'df_210', 'df_211', 'df_212', 'df_213', 'df_214', 'df_215', 'df_216', 'df_217', 'df_218', 'df_219', 'df_220', 'df_221', 'df_222', 'df_223', 'df_224', 'df_225', 'df_226', 'df_227', 'df_228', 'df_229', 'df_230', 'df_231', 'df_232', 'df_233', 'df_234', 'df_235', 'df_236', 'df_237', 'df_238', 'df_239', 'df_240', 'df_241', 'df_242', 'df_243', 'df_244', 'df_245', 'df_246', 'df_247', 'df_248', 'df_249', 'df_250', 'df_251', 'df_252', 'df_253', 'df_254', 'df_255', 'df_256', 'df_257', 'df_258', 'df_259', 'df_260', 'df_261', 'df_262', 'df_263', 'df_264', 'df_265', 'df_266', 'df_267', 'df_268', 'df_269', 'df_270', 'df_271', 'df_272', 'df_273', 'df_274', 'df_275', 'df_276', 'df_277', 'df_278', 'df_279', 'df_280', 'df_281', 'df_282', 'df_283', 'df_284', 'df_285', 'df_286', 'df_287', 'df_288', 'df_289', 'df_290', 'df_291', 'df_292', 'df_293', 'df_294', 'df_295', 'df_296', 'df_297', 'df_298', 'df_299', 'df_300', 'df_301', 'df_302', 'df_303', 'df_304', 'df_305', 'df_306', 'df_307', 'df_308', 'df_309', 'df_310', 'df_311', 'df_312', 'df_313', 'df_314', 'df_315', 'df_316', 'df_317', 'df_318', 'df_319', 'df_320', 'df_321', 'df_322', 'df_323', 'df_324', 'df_325', 'df_326', 'df_327', 'df_328', 'df_329', 'df_330', 'df_331', 'df_332', 'df_333', 'df_334', 'df_335', 'df_336', 'df_337', 'df_338', 'df_339', 'df_340', 'df_341', 'df_342', 'df_343', 'df_344', 'df_345', 'df_346', 'df_347', 'df_348', 'df_349', 'df_350', 'df_351', 'df_352', 'df_353', 'df_354', 'df_355', 'df_356', 'df_357', 'df_358', 'df_359', 'df_360', 'df_361', 'df_362', 'df_363', 'df_364', 'df_365', 'df_366', 'df_367', 'df_368', 'df_369', 'df_370', 'df_371', 'df_372', 'df_373', 'df_374', 'df_375', 'df_376', 'df_377', 'df_378', 'df_379', 'df_380', 'df_381', 'df_382', 'df_383', 'df_384', 'df_385', 'df_386', 'df_387', 'df_388', 'df_389', 'df_390', 'df_391', 'df_392', 'df_393', 'df_394', 'df_395', 'df_396', 'df_397', 'df_398', 'df_399', 'df_400', 'df_401', 'df_402', 'df_403', 'df_404', 'df_405', 'df_406', 'df_407', 'df_408', 'df_409', 'df_410', 'df_411', 'df_412', 'df_413', 'df_414', 'df_415', 'df_416', 'df_417', 'df_418', 'df_419', 'df_420', 'df_421', 'df_422', 'df_423', 'df_424', 'df_425', 'df_426', 'df_427', 'df_428', 'df_429', 'df_430', 'df_431', 'df_432', 'df_433', 'df_434', 'df_435', 'df_436', 'df_437', 'df_438', 'df_439', 'df_440', 'df_441', 'df_442', 'df_443', 'df_444', 'df_445', 'df_446', 'df_447', 'df_448', 'df_449', 'df_450', 'df_451', 'df_452', 'df_453', 'df_454', 'df_455', 'df_456', 'df_457', 'df_458', 'df_459', 'df_460', 'df_461', 'df_462', 'df_463', 'df_464', 'df_465', 'df_466', 'df_467', 'df_468', 'df_469', 'df_470', 'df_471', 'df_472', 'df_473', 'df_474', 'df_475', 'df_476', 'df_477', 'df_478', 'df_479', 'df_480', 'df_481', 'df_482', 'df_483', 'df_484', 'df_485', 'df_486', 'df_487', 'df_488', 'df_489', 'df_490', 'df_491', 'df_492', 'df_493', 'df_494', 'df_495', 'df_496', 'df_497', 'df_498', 'df_499', 'df_500', 'df_501', 'df_502', 'df_503', 'df_504', 'df_505', 'df_506', 'df_507', 'df_508', 'df_509', 'df_510', 'df_511', 'df_512', 'df_513', 'df_514', 'df_515', 'df_516', 'df_517', 'df_518', 'df_519', 'df_520', 'df_521', 'df_522', 'df_523', 'df_524', 'df_525', 'df_526', 'df_527', 'df_528', 'df_529', 'df_530', 'df_531', 'df_532', 'df_533', 'df_534', 'df_535', 'df_536', 'df_537', 'df_538', 'df_539', 'df_540', 'df_541', 'df_542', 'df_543', 'df_544', 'df_545', 'df_546', 'df_547', 'df_548', 'df_549', 'df_550', 'df_551', 'df_552', 'df_553', 'df_554', 'df_555', 'df_556', 'df_557', 'df_558', 'df_559', 'df_560', 'df_561', 'df_562', 'df_563', 'df_564', 'df_565', 'df_566', 'df_567', 'df_568', 'df_569', 'df_570', 'df_571', 'df_572', 'df_573', 'df_574', 'df_575', 'df_576', 'df_577', 'df_578', 'df_579', 'df_580', 'df_581', 'df_582', 'df_583', 'df_584', 'df_585', 'df_586', 'df_587', 'df_588', 'df_589', 'df_590', 'df_591', 'df_592', 'df_593', 'df_594', 'df_595', 'df_596', 'df_597', 'df_598', 'df_599', 'df_600', 'df_601', 'df_602', 'df_603', 'df_604', 'df_605', 'df_606', 'df_607', 'df_608', 'df_609', 'df_610', 'df_611', 'df_612', 'df_613', 'df_614', 'df_615', 'df_616', 'df_617', 'df_618', 'df_619', 'df_620', 'df_621', 'df_622', 'df_623', 'df_624', 'df_625', 'df_626', 'df_627', 'df_628', 'df_629', 'df_630', 'df_631', 'df_632', 'df_633', 'df_634', 'df_635', 'df_636', 'df_637', 'df_638', 'df_639', 'df_640', 'df_641', 'df_642', 'df_643', 'df_644', 'df_645', 'df_646', 'df_647', 'df_648', 'df_649', 'df_650', 'df_651', 'df_652', 'df_653', 'df_654', 'df_655', 'df_656', 'df_657', 'df_658', 'df_659', 'df_660', 'df_661', 'df_662', 'df_663', 'df_664', 'df_665', 'df_666', 'df_667', 'df_668', 'df_669', 'df_670', 'df_671', 'df_672', 'df_673', 'df_674', 'df_675', 'df_676', 'df_677', 'df_678', 'df_679', 'df_680', 'df_681', 'df_682', 'df_683', 'df_684', 'df_685', 'df_686', 'df_687', 'df_688', 'df_689', 'df_690', 'df_691', 'df_692', 'df_693', 'df_694', 'df_695', 'df_696', 'df_697', 'df_698', 'df_699', 'df_700', 'df_701', 'df_702', 'df_703', 'df_704', 'df_705', 'df_706', 'df_707', 'df_708', 'df_709', 'df_710', 'df_711', 'df_712', 'df_713', 'df_714', 'df_715', 'df_716', 'df_717', 'df_718', 'df_719', 'df_720', 'df_721', 'df_722', 'df_723', 'df_724', 'df_725', 'df_726', 'df_727', 'df_728', 'df_729', 'df_730', 'df_731', 'df_732', 'df_733', 'df_734', 'df_735', 'df_736', 'df_737', 'df_738', 'df_739', 'df_740', 'df_741', 'df_742', 'df_743', 'df_744', 'df_745', 'df_746', 'df_747', 'df_748', 'df_749', 'df_750', 'df_751', 'df_752', 'df_753', 'df_754', 'df_755', 'df_756', 'df_757', 'df_758', 'df_759', 'df_760', 'df_761', 'df_762', 'df_763', 'df_764', 'df_765', 'df_766', 'df_767', 'df_768', 'df_769', 'df_770', 'df_771', 'df_772', 'df_773', 'df_774', 'df_775', 'df_776', 'df_777', 'df_778', 'df_779', 'df_780', 'df_781', 'df_782', 'df_783', 'df_784', 'df_785', 'df_786', 'df_787', 'df_788', 'df_789', 'df_790', 'df_791', 'df_792', 'df_793', 'df_794', 'df_795', 'df_796', 'df_797', 'df_798', 'df_799', 'df_800', 'df_801', 'df_802', 'df_803', 'df_804', 'df_805', 'df_806', 'df_807', 'df_808', 'df_809', 'df_810', 'df_811', 'df_812', 'df_813', 'df_814', 'df_815', 'df_816', 'df_817', 'df_818', 'df_819', 'df_820', 'df_821', 'df_822', 'df_823', 'df_824', 'df_825', 'df_826', 'df_827', 'df_828', 'df_829', 'df_830', 'df_831', 'df_832', 'df_833', 'df_834', 'df_835', 'df_836', 'df_837', 'df_838', 'df_839', 'df_840', 'df_841', 'df_842', 'df_843', 'df_844', 'df_845', 'df_846', 'df_847', 'df_848', 'df_849', 'df_850', 'df_851', 'df_852', 'df_853', 'df_854', 'df_855', 'df_856', 'df_857', 'df_858', 'df_859', 'df_860', 'df_861', 'df_862', 'df_863', 'df_864', 'df_865', 'df_866', 'df_867', 'df_868', 'df_869', 'df_870', 'df_871', 'df_872', 'df_873', 'df_874', 'df_875', 'df_876', 'df_877', 'df_878', 'df_879', 'df_880', 'df_881', 'df_882', 'df_883', 'df_884', 'df_885', 'df_886', 'df_887', 'df_888', 'df_889', 'df_890', 'df_891', 'df_892', 'df_893', 'df_894', 'df_895', 'df_896', 'df_897', 'df_898', 'df_899', 'df_900', 'df_901', 'df_902', 'df_903', 'df_904', 'df_905', 'df_906', 'df_907', 'df_908', 'df_909', 'df_910', 'df_911', 'df_912', 'df_913', 'df_914', 'df_915', 'df_916', 'df_917', 'df_918', 'df_919', 'df_920', 'df_921', 'df_922', 'df_923', 'df_924', 'df_925', 'df_926', 'df_927', 'df_928', 'df_929', 'df_930', 'df_931', 'df_932', 'df_933', 'df_934', 'df_935', 'df_936', 'df_937', 'df_938', 'df_939', 'df_940', 'df_941', 'df_942', 'df_943', 'df_944', 'df_945', 'df_946', 'df_947', 'df_948', 'df_949', 'df_950', 'df_951', 'df_952', 'df_953', 'df_954', 'df_955', 'df_956', 'df_957', 'df_958', 'df_959', 'df_960', 'df_961', 'df_962', 'df_963', 'df_964', 'df_965', 'df_966', 'df_967', 'df_968', 'df_969', 'df_970', 'df_971', 'df_972', 'df_973', 'df_974', 'df_975', 'df_976', 'df_977', 'df_978', 'df_979', 'df_980', 'df_981', 'df_982', 'df_983', 'df_984', 'df_985', 'df_986', 'df_987', 'df_988', 'df_989', 'df_990', 'df_991', 'df_992', 'df_993', 'df_994', 'df_995', 'df_996', 'df_997', 'df_998', 'df_999', 'df_1000', 'df_1001', 'df_1002', 'df_1003', 'df_1004', 'df_1005', 'df_1006', 'df_1007', 'df_1008', 'df_1009', 'df_1010', 'df_1011', 'df_1012', 'df_1013', 'df_1014', 'df_1015', 'df_1016', 'df_1017', 'df_1018', 'df_1019', 'df_1020', 'df_1021', 'df_1022', 'df_1023', 'df_1024', 'df_1025', 'df_1026', 'df_1027', 'df_1028', 'df_1029', 'df_1030', 'df_1031', 'df_1032', 'df_1033', 'df_1034', 'df_1035', 'df_1036', 'df_1037', 'df_1038', 'df_1039', 'df_1040', 'df_1041', 'df_1042', 'df_1043', 'df_1044', 'df_1045', 'df_1046', 'df_1047', 'df_1048', 'df_1049', 'df_1050', 'df_1051', 'df_1052', 'df_1053', 'df_1054', 'df_1055', 'df_1056', 'df_1057', 'df_1058', 'df_1059', 'df_1060', 'df_1061', 'df_1062', 'df_1063', 'df_1064', 'df_1065', 'df_1066', 'df_1067', 'df_1068', 'df_1069', 'df_1070', 'df_1071', 'df_1072', 'df_1073', 'df_1074', 'df_1075', 'df_1076', 'df_1077', 'df_1078', 'df_1079', 'df_1080', 'df_1081', 'df_1082', 'df_1083', 'df_1084', 'df_1085', 'df_1086', 'df_1087', 'df_1088', 'df_1089', 'df_1090', 'df_1091', 'df_1092', 'df_1093', 'df_1094', 'df_1095', 'df_1096', 'df_1097', 'df_1098', 'df_1099', 'df_1100', 'df_1101', 'df_1102', 'df_1103', 'df_1104', 'df_1105', 'df_1106', 'df_1107', 'df_1108', 'df_1109', 'df_1110', 'df_1111', 'df_1112', 'df_1113', 'df_1114', 'df_1115', 'df_1116', 'df_1117', 'df_1118', 'df_1119', 'df_1120', 'df_1121', 'df_1122', 'df_1123', 'df_1124', 'df_1125', 'df_1126', 'df_1127', 'df_1128', 'df_1129', 'df_1130', 'df_1131', 'df_1132', 'df_1133', 'df_1134', 'df_1135', 'df_1136', 'df_1137', 'df_1138', 'df_1139', 'df_1140', 'df_1141', 'df_1142', 'df_1143', 'df_1144', 'df_1145', 'df_1146', 'df_1147', 'df_1148', 'df_1149', 'df_1150', 'df_1151', 'df_1152', 'df_1153', 'df_1154', 'df_1155', 'df_1156', 'df_1157', 'df_1158', 'df_1159', 'df_1160', 'df_1161', 'df_1162', 'df_1163', 'df_1164', 'df_1165', 'df_1166', 'df_1167', 'df_1168', 'df_1169', 'df_1170', 'df_1171', 'df_1172', 'df_1173', 'df_1174', 'df_1175', 'df_1176', 'df_1177', 'df_1178', 'df_1179', 'df_1180', 'df_1181', 'df_1182', 'df_1183', 'df_1184', 'df_1185', 'df_1186', 'df_1187', 'df_1188', 'df_1189', 'df_1190', 'df_1191', 'df_1192', 'df_1193', 'df_1194', 'df_1195', 'df_1196', 'df_1197', 'df_1198', 'df_1199', 'df_1200', 'df_1201', 'df_1202', 'df_1203', 'df_1204', 'df_1205', 'df_1206', 'df_1207', 'df_1208', 'df_1209', 'df_1210', 'df_1211', 'df_1212', 'df_1213', 'df_1214', 'df_1215', 'df_1216', 'df_1217', 'df_1218', 'df_1219', 'df_1220', 'df_1221', 'df_1222', 'df_1223', 'df_1224', 'df_1225', 'df_1226', 'df_1227', 'df_1228', 'df_1229', 'df_1230', 'df_1231', 'df_1232', 'df_1233', 'df_1234', 'df_1235', 'df_1236', 'df_1237', 'df_1238', 'df_1239', 'df_1240', 'df_1241', 'df_1242', 'df_1243', 'df_1244', 'df_1245', 'df_1246', 'df_1247', 'df_1248', 'df_1249', 'df_1250', 'df_1251', 'df_1252', 'df_1253', 'df_1254', 'df_1255', 'df_1256', 'df_1257', 'df_1258', 'df_1259', 'df_1260', 'df_1261', 'df_1262', 'df_1263', 'df_1264', 'df_1265', 'df_1266', 'df_1267', 'df_1268', 'df_1269', 'df_1270', 'df_1271', 'df_1272', 'df_1273', 'df_1274', 'df_1275', 'df_1276', 'df_1277', 'df_1278', 'df_1279', 'df_1280', 'df_1281', 'df_1282', 'df_1283', 'df_1284', 'df_1285', 'df_1286', 'df_1287', 'df_1288', 'df_1289', 'df_1290', 'df_1291', 'df_1292', 'df_1293', 'df_1294', 'df_1295', 'df_1296', 'df_1297', 'df_1298', 'df_1299', 'df_1300', 'df_1301', 'df_1302', 'df_1303', 'df_1304', 'df_1305', 'df_1306', 'df_1307', 'df_1308', 'df_1309', 'df_1310', 'df_1311', 'df_1312', 'df_1313', 'df_1314', 'df_1315', 'df_1316', 'df_1317', 'df_1318', 'df_1319', 'df_1320', 'df_1321', 'df_1322', 'df_1323', 'df_1324', 'df_1325', 'df_1326', 'df_1327', 'df_1328', 'df_1329', 'df_1330', 'df_1331', 'df_1332', 'df_1333', 'df_1334', 'df_1335', 'df_1336', 'df_1337', 'df_1338', 'df_1339', 'df_1340', 'df_1341', 'df_1342', 'df_1343', 'df_1344', 'df_1345', 'df_1346', 'df_1347']\n",
      "Removing Faulty Table df_759\n"
     ]
    },
    {
     "data": {
      "text/html": [
       "<div>\n",
       "<style scoped>\n",
       "    .dataframe tbody tr th:only-of-type {\n",
       "        vertical-align: middle;\n",
       "    }\n",
       "\n",
       "    .dataframe tbody tr th {\n",
       "        vertical-align: top;\n",
       "    }\n",
       "\n",
       "    .dataframe thead th {\n",
       "        text-align: right;\n",
       "    }\n",
       "</style>\n",
       "<table border=\"1\" class=\"dataframe\">\n",
       "  <thead>\n",
       "    <tr style=\"text-align: right;\">\n",
       "      <th></th>\n",
       "      <th></th>\n",
       "      <th>ISO 3950 Designation of Tooth</th>\n",
       "      <th>NYU Code R</th>\n",
       "      <th>UMLS Concept Unique ID</th>\n",
       "      <th>NYU Code M</th>\n",
       "      <th>Mayo Code R</th>\n",
       "      <th>Code Value</th>\n",
       "      <th>RADLEX Code Value</th>\n",
       "      <th>SNOMED-RT ID</th>\n",
       "      <th>Coding Scheme Designator</th>\n",
       "      <th>...</th>\n",
       "      <th>Notes</th>\n",
       "      <th>SNOMED-RT Concept ID</th>\n",
       "      <th>NCDR Equivalents</th>\n",
       "      <th>PI-RADS v2 Abbreviation</th>\n",
       "      <th>Equivalent LOINC Code Value</th>\n",
       "      <th>Trade name (Informative)</th>\n",
       "      <th>Trade Name (Informative)</th>\n",
       "      <th>ACR MQCM 1999 Equivalent</th>\n",
       "      <th>NYU Code L</th>\n",
       "      <th>16 Sector Code</th>\n",
       "    </tr>\n",
       "  </thead>\n",
       "  <tbody>\n",
       "  </tbody>\n",
       "</table>\n",
       "<p>0 rows × 51 columns</p>\n",
       "</div>"
      ],
      "text/plain": [
       "Empty DataFrame\n",
       "Columns: [, ISO 3950 Designation of Tooth, NYU Code R, UMLS Concept Unique ID, NYU Code M, Mayo Code R, Code Value, RADLEX Code Value, SNOMED-RT ID, Coding Scheme Designator, Other Names, Equivalent per Smallwood et al (see Note 1), Coding Scheme Version, mpMRI Assessment Values, ICD-11, ITIS TSN, Segment Annotation Type and RT ROI Identification Context Group, ASTM Reference, Mayo Code M, Equivalent BARI Code, Applies only when View ACR MQCM 1999 Equivalent is:, ISO/IEEE 11073 MDC Equivalent Reference ID (Informative), ISO Reference, ISO 3950 Designation of Quadrant, Units, Patient's Sex (0010,0040) Equivalent, Segmentation Property Type Context Group, NCDR Equivalent, Source, FMA ID, NCDR 2.0b Equivalent Code Value, NCI Thesaurus, HL7 v3 ActClass equivalent, Segment Annotation Type and Therapeutic Role Type Context Group, Equivalent DCMR (DCM) Code, NCDR [2.0b] Equivalent, View Position (0018,5101) (see Note 2), Code Meaning, SNODENT Code, 27 Sector Code, Mayo Code L, Notes, SNOMED-RT Concept ID, NCDR Equivalents, PI-RADS v2 Abbreviation, Equivalent LOINC Code Value, Trade name (Informative), Trade Name (Informative), ACR MQCM 1999 Equivalent, NYU Code L, 16 Sector Code]\n",
       "Index: []\n",
       "\n",
       "[0 rows x 51 columns]"
      ]
     },
     "execution_count": 22,
     "metadata": {},
     "output_type": "execute_result"
    }
   ],
   "source": [
    "'''The Tables have 3 shapes\n",
    "3 Cols = \n",
    "4 Cols\n",
    "5 Cols = Coding Scheme Designator |\n",
    "            Code Value\t|\n",
    "            Code Meaning |\t\n",
    "            SNOMED-RT ID |\t\n",
    "            UMLS Concept Unique ID\n",
    "6 Cols = Coding Scheme Designator |\n",
    "            Code Value\t|\n",
    "            Code Meaning |\t\n",
    "            SNOMED-RT ID |\t\n",
    "            UMLS Concept Unique ID |\n",
    "            Trade Name (Informative)\n",
    "\n",
    "Found bogus table 'df_759'\n",
    "'''\n",
    "\n",
    "faulty_tables=['df_759','df_901','df_1003','df_1100','df_1101']\n",
    "table_names=list(result_dict.keys())\n",
    "print(\"{} Tables Identified\".format(len(table_names)))\n",
    "#print(table_names)\n",
    "for faulty_table in faulty_tables:\n",
    "    if faulty_table in table_names:\n",
    "        print(\"Removing Faulty Table {}\".format(faulty_table))\n",
    "        table_names.remove(faulty_table)\n",
    "        break\n",
    "df_list=[result_dict[x] for x in table_names]\n",
    "col_list=[]\n",
    "for item in df_list:\n",
    "    col_list=col_list+item.columns.to_list()\n",
    "df=pd.DataFrame(columns=list(set(col_list)))\n",
    "df\n",
    "\n",
    "\n",
    "\n",
    "    "
   ]
  },
  {
   "cell_type": "code",
   "execution_count": 19,
   "metadata": {},
   "outputs": [
    {
     "data": {
      "text/html": [
       "<div>\n",
       "<style scoped>\n",
       "    .dataframe tbody tr th:only-of-type {\n",
       "        vertical-align: middle;\n",
       "    }\n",
       "\n",
       "    .dataframe tbody tr th {\n",
       "        vertical-align: top;\n",
       "    }\n",
       "\n",
       "    .dataframe thead th {\n",
       "        text-align: right;\n",
       "    }\n",
       "</style>\n",
       "<table border=\"1\" class=\"dataframe\">\n",
       "  <thead>\n",
       "    <tr style=\"text-align: right;\">\n",
       "      <th></th>\n",
       "      <th></th>\n",
       "      <th>ISO 3950 Designation of Tooth</th>\n",
       "      <th>NYU Code R</th>\n",
       "      <th>UMLS Concept Unique ID</th>\n",
       "      <th>NYU Code M</th>\n",
       "      <th>Mayo Code R</th>\n",
       "      <th>Code Value</th>\n",
       "      <th>RADLEX Code Value</th>\n",
       "      <th>SNOMED-RT ID</th>\n",
       "      <th>Coding Scheme Designator</th>\n",
       "      <th>...</th>\n",
       "      <th>Notes</th>\n",
       "      <th>SNOMED-RT Concept ID</th>\n",
       "      <th>NCDR Equivalents</th>\n",
       "      <th>PI-RADS v2 Abbreviation</th>\n",
       "      <th>Equivalent LOINC Code Value</th>\n",
       "      <th>Trade name (Informative)</th>\n",
       "      <th>Trade Name (Informative)</th>\n",
       "      <th>ACR MQCM 1999 Equivalent</th>\n",
       "      <th>NYU Code L</th>\n",
       "      <th>16 Sector Code</th>\n",
       "    </tr>\n",
       "  </thead>\n",
       "  <tbody>\n",
       "  </tbody>\n",
       "</table>\n",
       "<p>0 rows × 51 columns</p>\n",
       "</div>"
      ],
      "text/plain": [
       "Empty DataFrame\n",
       "Columns: [, ISO 3950 Designation of Tooth, NYU Code R, UMLS Concept Unique ID, NYU Code M, Mayo Code R, Code Value, RADLEX Code Value, SNOMED-RT ID, Coding Scheme Designator, Other Names, Equivalent per Smallwood et al (see Note 1), Coding Scheme Version, mpMRI Assessment Values, ICD-11, ITIS TSN, Segment Annotation Type and RT ROI Identification Context Group, ASTM Reference, Mayo Code M, Equivalent BARI Code, Applies only when View ACR MQCM 1999 Equivalent is:, ISO/IEEE 11073 MDC Equivalent Reference ID (Informative), ISO Reference, ISO 3950 Designation of Quadrant, Units, Patient's Sex (0010,0040) Equivalent, Segmentation Property Type Context Group, NCDR Equivalent, Source, FMA ID, NCDR 2.0b Equivalent Code Value, NCI Thesaurus, HL7 v3 ActClass equivalent, Segment Annotation Type and Therapeutic Role Type Context Group, Equivalent DCMR (DCM) Code, NCDR [2.0b] Equivalent, View Position (0018,5101) (see Note 2), Code Meaning, SNODENT Code, 27 Sector Code, Mayo Code L, Notes, SNOMED-RT Concept ID, NCDR Equivalents, PI-RADS v2 Abbreviation, Equivalent LOINC Code Value, Trade name (Informative), Trade Name (Informative), ACR MQCM 1999 Equivalent, NYU Code L, 16 Sector Code]\n",
       "Index: []\n",
       "\n",
       "[0 rows x 51 columns]"
      ]
     },
     "execution_count": 19,
     "metadata": {},
     "output_type": "execute_result"
    }
   ],
   "source": [
    "df.head()"
   ]
  }
 ],
 "metadata": {
  "kernelspec": {
   "display_name": "Python 3",
   "language": "python",
   "name": "python3"
  },
  "language_info": {
   "codemirror_mode": {
    "name": "ipython",
    "version": 3
   },
   "file_extension": ".py",
   "mimetype": "text/x-python",
   "name": "python",
   "nbconvert_exporter": "python",
   "pygments_lexer": "ipython3",
   "version": "3.9.6"
  },
  "orig_nbformat": 4,
  "vscode": {
   "interpreter": {
    "hash": "d75886a766ecf1d67c0d1c554768ab55e9651a780e97b507eb22163b83a149f8"
   }
  }
 },
 "nbformat": 4,
 "nbformat_minor": 2
}
